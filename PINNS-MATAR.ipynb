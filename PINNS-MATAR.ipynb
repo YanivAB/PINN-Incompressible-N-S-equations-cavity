{
 "cells": [
  {
   "cell_type": "markdown",
   "metadata": {},
   "source": [
    "## Tutorial 4\n",
    "Solving the 1D unsteady diffusion equation using a Physics Informed Neural Network (PINN).  \n",
    "The Equation is given by:\n",
    "$$\\frac {\\partial u} {\\partial t} - \\mu \\frac {\\partial^2 u} {\\partial x^2} = 0$$\n",
    "The Domain for $x$ and $t$ are $x\\in [0,1]$, and $t\\in [0,1]$.  \n",
    "The ICs/BSs are (here $T=1$):\n",
    "$$u(x,t=0)=sin(\\frac {2\\pi x} {T})$$\n",
    "$$u(x=0,t)=0$$\n",
    "$$u(x=1,t)=0$$\n",
    "$$u_x(x=0,t)=u_x(x=1,t)$$\n"
   ]
  },
  {
   "cell_type": "code",
   "execution_count": 57,
   "metadata": {},
   "outputs": [],
   "source": [
    "import torch\n",
    "import torch.nn as nn\n",
    "from torch.autograd import grad\n",
    "import torch.functional as F\n",
    "import numpy as np\n",
    "import matplotlib.pyplot as plt\n"
   ]
  },
  {
   "cell_type": "markdown",
   "metadata": {},
   "source": [
    "### Define PINNs network class with Fourier Feature Mapping"
   ]
  },
  {
   "cell_type": "code",
   "execution_count": 58,
   "metadata": {},
   "outputs": [],
   "source": [
    "class ffm(nn.Module):\n",
    "    def __init__(self, in_dim, out_dim, std_dev = 2):\n",
    "        super().__init__()\n",
    "        self.omega = nn.Parameter(torch.randn(out_dim, in_dim) * std_dev) # Length of hidden layer is rows, \n",
    "\n",
    "    def forward(self, x):\n",
    "        return torch.cos(F.F.linear(x, self.omega))\n",
    "\n",
    "class PINNs_net(nn.Module):    \n",
    "    def __init__(self, in_dim=3, HL_dim=32, out_dim=2, activation=nn.Tanh()):\n",
    "        \"\"\"\n",
    "        Parameters\n",
    "        -------------\n",
    "        in_dim: the input dimensions - number of independant variables\n",
    "        HL_dim: the width of the network\n",
    "        out_dim: the output dimensions - number of dependant variables\n",
    "        activation: The activation function you wish to use in the network - the default is nn.Tanh()\n",
    "        \"\"\"\n",
    "        super().__init__()\n",
    "        \n",
    "        # define the network architecture\n",
    "        network = [nn.Linear(in_dim, HL_dim), activation,\n",
    "                   nn.Linear(HL_dim, HL_dim), activation,\n",
    "                   nn.Linear(HL_dim, HL_dim), activation,\n",
    "                   nn.Linear(HL_dim, HL_dim), activation,\n",
    "                   nn.Linear(HL_dim, out_dim)]\n",
    "        \n",
    "        # define the network using sequential method\n",
    "        self.u = nn.Sequential(*network) \n",
    "    \n",
    "    def forward(self, x, y, t):\n",
    "        return self.u(torch.cat((x, y, t), 1))\n",
    "    \n",
    "    \n",
    "    def compute_loss(self, x, y, t, r, Nx, Ny, Nt):\n",
    "        \"\"\"\n",
    "        This is the physics part really\n",
    "        \"\"\"\n",
    "        x.requires_grad=True\n",
    "        y.requires_grad=True\n",
    "        t.requires_grad=True\n",
    "        u = self.u(torch.cat((x, y, t), 1))\n",
    "\n",
    "        # compute PDE derivatives using auto grad\n",
    "        u_x = grad(u[:, 0], x, grad_outputs=torch.ones_like(u[:, 0]), create_graph=True)[0]\n",
    "        u_y = grad(u[:, 0], y, grad_outputs=torch.ones_like(u[:, 0]), create_graph=True)[0]\n",
    "        u_t = grad(u[:, 0], t, grad_outputs=torch.ones_like(u[:, 0]), create_graph=True)[0]\n",
    "        u_xx = grad(u_x, x, grad_outputs=torch.ones_like(u_x), create_graph=True)[0]\n",
    "        u_yy = grad(u_y, y, grad_outputs=torch.ones_like(u_y), create_graph=True)[0]\n",
    "        \n",
    "        v_x = grad(u[:, 1], x, grad_outputs=torch.ones_like(u[:, 1]), create_graph=True)[0]  # Change 5: Added gradients for v\n",
    "        v_y = grad(u[:, 1], y, grad_outputs=torch.ones_like(u[:, 1]), create_graph=True)[0]\n",
    "        v_t = grad(u[:, 1], t, grad_outputs=torch.ones_like(u[:, 1]), create_graph=True)[0]\n",
    "        v_xx = grad(v_x, x, grad_outputs=torch.ones_like(v_x), create_graph=True)[0]\n",
    "        v_yy = grad(v_y, y, grad_outputs=torch.ones_like(v_y), create_graph=True)[0]\n",
    "        \n",
    "        # set a loss function to apply to each of the physics residuals (PDE, IC, BC)\n",
    "        loss_fun = nn.MSELoss()\n",
    "\n",
    "        # compute the PDE residual loss\n",
    "        f_u = u_t + (u[:, 0] * u_x + u[:, 1] * u_y) - 0.01 * (u_xx + u_yy)  # Change 6: Modified f_u calculation\n",
    "        f_v = v_t + (u[:, 0] * v_x + u[:, 1] * v_y) - 0.01 * (v_xx + v_yy)  # Change 7: Added f_v calculation\n",
    "        pde_loss = loss_fun(f_u, torch.zeros_like(f_u)) + loss_fun(f_v, torch.zeros_like(f_v))\n",
    "\n",
    "        # compute the BC loss\n",
    "        dist = torch.sqrt(x.view(-1)**2 + y.view(-1)**2)  # Change 8: Calculate distance from cylinder center\n",
    "        cylinder_mask = torch.abs(dist - r) < 1e-4  # Change 9: Mask for cylinder boundary\n",
    "        bc_loss = loss_fun(u[cylinder_mask, :], torch.zeros_like(u[cylinder_mask, :]))  # Change 10: BC loss for cylinder\n",
    "        \n",
    "        # compute the IC loss\n",
    "        u_initial = torch.zeros_like(u[:, 0])\n",
    "        ic_loss = loss_fun(u_initial, u[:, 0])\n",
    "    \n",
    "        return pde_loss, bc_loss, ic_loss\n"
   ]
  },
  {
   "cell_type": "markdown",
   "metadata": {},
   "source": [
    "### Define Model and Optimizer"
   ]
  },
  {
   "cell_type": "code",
   "execution_count": 59,
   "metadata": {},
   "outputs": [],
   "source": [
    "model = PINNs_net(in_dim=3, out_dim=2)  # Change 11: Updated model initialization\n",
    "optimizer = torch.optim.Adam(model.parameters(), lr=0.001)"
   ]
  },
  {
   "cell_type": "markdown",
   "metadata": {},
   "source": [
    "### Setting up the Case"
   ]
  },
  {
   "cell_type": "code",
   "execution_count": 60,
   "metadata": {},
   "outputs": [],
   "source": [
    "# num of points in the domain\n",
    "Nx, Ny, Nt = 32, 32, 32  # Change 12: Added Ny\n",
    "\n",
    "# define domain dimensions and resolution\n",
    "Lx_initial, Lx_final = -1, 1\n",
    "Ly_initial, Ly_final = -1, 1  # Change 13: Added y dimension limits\n",
    "t_initial, t_final = 0, 1\n",
    "dx = (Lx_final - Lx_initial) / (Nx - 1)\n",
    "dy = (Ly_final - Ly_initial) / (Ny - 1)  # Change 14: Added dy calculation\n",
    "dt = (t_final - t_initial) / (Nt - 1)\n",
    "\n",
    "# initiallize input parameters as tensors\n",
    "x = torch.zeros(Nx, Ny, Nt)  # Change 15: Updated tensor initialization for x\n",
    "y = torch.zeros(Nx, Ny, Nt)  # Change 16: Added tensor initialization for y\n",
    "t = torch.zeros(Nx, Ny, Nt)\n",
    "for i in range(Nx):\n",
    "    for j in range(Ny):  # Change 17: Added loop for Ny\n",
    "        for k in range(Nt):\n",
    "            x[i, j, k] = Lx_initial + dx * i\n",
    "            y[i, j, k] = Ly_initial + dy * j  # Change 18: Updated to set y values\n",
    "            t[i, j, k] = t_initial + dt * k\n",
    "\n",
    "r = 0.5  # Change 19: Added cylinder radius\n",
    "\n",
    "batch_size = 1024  # Adjust batch size as needed"
   ]
  },
  {
   "cell_type": "markdown",
   "metadata": {},
   "source": [
    "### Training the PINNs network"
   ]
  },
  {
   "cell_type": "code",
   "execution_count": 61,
   "metadata": {},
   "outputs": [
    {
     "name": "stdout",
     "output_type": "stream",
     "text": [
      "epoch: 0, loss: nan\n",
      "epoch: 10, loss: nan\n",
      "epoch: 20, loss: nan\n",
      "epoch: 30, loss: nan\n",
      "epoch: 40, loss: nan\n"
     ]
    }
   ],
   "source": [
    "for epoch in range(50):\n",
    "    total_loss = 0.0\n",
    "    for i in range(0, Nx * Ny * Nt, batch_size):\n",
    "        x_batch = x.view(-1)[i:i + batch_size].view(-1, 1)\n",
    "        y_batch = y.view(-1)[i:i + batch_size].view(-1, 1)\n",
    "        t_batch = t.view(-1)[i:i + batch_size].view(-1, 1)\n",
    "\n",
    "        eq_loss, BC_loss, IC_loss = model.compute_loss(x_batch, y_batch, t_batch, r, Nx, Ny, Nt)\n",
    "        loss = eq_loss + 20 * BC_loss + 20 * IC_loss\n",
    "        loss.backward()\n",
    "        optimizer.step()\n",
    "        optimizer.zero_grad()\n",
    "        total_loss += loss.item()\n",
    "\n",
    "    if epoch % 10 == 0:\n",
    "        print(f\"epoch: {epoch}, loss: {total_loss}\")\n"
   ]
  },
  {
   "cell_type": "code",
   "execution_count": 62,
   "metadata": {},
   "outputs": [
    {
     "data": {
      "image/png": "[encoded data removed]",
      "text/plain": [
       "<Figure size 640x480 with 2 Axes>"
      ]
     },
     "metadata": {},
     "output_type": "display_data"
    }
   ],
   "source": [
    "u = model.forward(x.view(-1, 1), y.view(-1, 1), t.view(-1, 1))  # Change 21: Updated forward call\n",
    "u_np = u.detach().numpy()\n",
    "u_reshaped = u_np[:, 0].reshape(Nx, Ny, Nt)\n",
    "\n",
    "x = np.linspace(Lx_initial, Lx_final, Nx)\n",
    "y = np.linspace(Ly_initial, Ly_final, Ny)\n",
    "X, Y = np.meshgrid(x, y)\n",
    "\n",
    "# Compute distance from the cylinder center (assuming centered at origin)\n",
    "dist_from_center = np.sqrt(X**2 + Y**2)\n",
    "# Mask for cylinder boundary\n",
    "cylinder_boundary = np.abs(dist_from_center - r) < 0.1  # Adjust threshold as needed for visibility\n",
    "\n",
    "plt.imshow(u_reshaped[:, :, Nt // 2], cmap='jet')\n",
    "plt.title(\"Solution for $u(x,y,t)$ at t=0.5\")\n",
    "plt.colorbar()\n",
    "plt.contour(X, Y, cylinder_boundary, colors='k')  # Add cylinder boundary\n",
    "plt.title(\"Solution for $u(x,y,t)$ at t=0.5\")\n",
    "plt.xlabel(\"x (m)\")\n",
    "plt.ylabel(\"y (m)\")\n",
    "plt.show()\n",
    "\n"
   ]
  },
  {
   "cell_type": "code",
   "execution_count": 63,
   "metadata": {},
   "outputs": [],
   "source": [
    "# once you have a complicated solution so the NN is finding it hard to learn functions.\n",
    "# to enhance the convergance is \n",
    "# MLPs can't capture high frequency details. The proposed solution is FFM\n",
    "# Fourier feature mapping\n",
    "# PINNs compared to Numerical Solvers is garbage because high frequency data is not captured.\n",
    "# CFD simulations are usually done in FORTRAN "
   ]
  }
 ],
 "metadata": {
  "kernelspec": {
   "display_name": ".venv",
   "language": "python",
   "name": "python3"
  },
  "language_info": {
   "codemirror_mode": {
    "name": "ipython",
    "version": 3
   },
   "file_extension": ".py",
   "mimetype": "text/x-python",
   "name": "python",
   "nbconvert_exporter": "python",
   "pygments_lexer": "ipython3",
   "version": "3.11.9"
  }
 },
 "nbformat": 4,
 "nbformat_minor": 2
}
