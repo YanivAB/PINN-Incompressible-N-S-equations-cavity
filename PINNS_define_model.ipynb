{
 "cells": [
  {
   "cell_type": "markdown",
   "metadata": {},
   "source": [
    "# Physics-Informed Neural Networks (PINNs) with Fourier Feature Mapping\n",
    "\n",
    "This notebook implements a Physics-Informed Neural Network (PINN) to solve partial differential equations (PDEs) using Fourier feature mapping. The notebook uses PyTorch for defining and training the network.\n",
    "\n",
    "```python"
   ]
  },
  {
   "cell_type": "markdown",
   "metadata": {},
   "source": [
    "# Import necessary libraries"
   ]
  },
  {
   "cell_type": "code",
   "execution_count": null,
   "metadata": {},
   "outputs": [],
   "source": [
    "import torch\n",
    "import torch.nn as nn\n",
    "from torch.autograd import grad\n",
    "import torch.functional as F\n",
    "import numpy as np\n",
    "import matplotlib.pyplot as plt\n"
   ]
  },
  {
   "cell_type": "markdown",
   "metadata": {},
   "source": [
    "# Define the Fourier Feature Mapping Class\n"
   ]
  },
  {
   "cell_type": "code",
   "execution_count": null,
   "metadata": {},
   "outputs": [],
   "source": [
    "class FFM(nn.Module):\n",
    "    def __init__(self, in_dim, out_dim, std_dev=2):\n",
    "        \"\"\"\n",
    "        Initializes the Fourier Feature Mapping.\n",
    "        \n",
    "        Parameters:\n",
    "        in_dim (int): Input dimensions (number of independent variables)\n",
    "        out_dim (int): Output dimensions (length of the hidden layer)\n",
    "        std_dev (float): Standard deviation for initializing omega parameter\n",
    "        \"\"\"\n",
    "        super().__init__()\n",
    "        self.omega = nn.Parameter(torch.randn(out_dim, in_dim) * std_dev)\n",
    "\n",
    "    def forward(self, x):\n",
    "        \"\"\"\n",
    "        Forward pass through the Fourier feature mapping layer.\n",
    "        \n",
    "        Parameters:\n",
    "        x (Tensor): Input tensor\n",
    "        \n",
    "        Returns:\n",
    "        Tensor: Output tensor after applying cosine function\n",
    "        \"\"\"\n",
    "        return torch.cos(F.F.linear(x, self.omega))\n"
   ]
  },
  {
   "cell_type": "markdown",
   "metadata": {},
   "source": [
    "# Define the PINNs Network Class"
   ]
  },
  {
   "cell_type": "code",
   "execution_count": null,
   "metadata": {},
   "outputs": [],
   "source": [
    "class PINNsNet(nn.Module):\n",
    "    def __init__(self, in_dim=2, HL_dim=32, out_dim=1, activation=nn.Tanh()):\n",
    "        \"\"\"\n",
    "        Initializes the PINNs network.\n",
    "        \n",
    "        Parameters:\n",
    "        in_dim (int): Input dimensions (number of independent variables)\n",
    "        HL_dim (int): Width of the network (number of hidden layer units)\n",
    "        out_dim (int): Output dimensions (number of dependent variables)\n",
    "        activation (nn.Module): Activation function to use in the network\n",
    "        \"\"\"\n",
    "        super().__init__()\n",
    "        \n",
    "        # Define the network architecture\n",
    "        network = [nn.Linear(in_dim, HL_dim), activation,\n",
    "                   nn.Linear(HL_dim, HL_dim), activation,\n",
    "                   nn.Linear(HL_dim, HL_dim), activation,\n",
    "                   nn.Linear(HL_dim, HL_dim), activation,\n",
    "                   nn.Linear(HL_dim, out_dim)]\n",
    "        \n",
    "        # Define the network using the sequential method\n",
    "        self.u = nn.Sequential(*network)\n",
    "    \n",
    "    def forward(self, x, t):\n",
    "        \"\"\"\n",
    "        Forward pass through the network.\n",
    "        \n",
    "        Parameters:\n",
    "        x (Tensor): Spatial coordinates\n",
    "        t (Tensor): Temporal coordinates\n",
    "        \n",
    "        Returns:\n",
    "        Tensor: Network output\n",
    "        \"\"\"\n",
    "        return self.u(torch.cat((x, t), 1))\n",
    "    \n",
    "    def compute_loss(self, x, t, Nx, Nt):\n",
    "        \"\"\"\n",
    "        Computes the loss for the network.\n",
    "        \n",
    "        Parameters:\n",
    "        x (Tensor): Spatial coordinates with gradient tracking enabled\n",
    "        t (Tensor): Temporal coordinates with gradient tracking enabled\n",
    "        Nx (int): Number of spatial points\n",
    "        Nt (int): Number of temporal points\n",
    "        \n",
    "        Returns:\n",
    "        tuple: Losses for PDE, boundary conditions, and initial conditions\n",
    "        \"\"\"\n",
    "        x.requires_grad = True\n",
    "        t.requires_grad = True\n",
    "        u = self.u(torch.cat((x, t), 1))\n",
    "\n",
    "        # Compute PDE derivatives using auto-grad\n",
    "        u_t = grad(u, t, grad_outputs=torch.ones_like(u), create_graph=True)[0]\n",
    "        u_x = grad(u, x, grad_outputs=torch.ones_like(u), create_graph=True)[0]\n",
    "        u_xx = grad(u_x, x, grad_outputs=torch.ones_like(u_x), create_graph=True)[0]\n",
    "        \n",
    "        # Define a loss function\n",
    "        loss_fun = nn.MSELoss()\n",
    "\n",
    "        # Compute the PDE residual loss\n",
    "        res = u_t - 0.1 * u_xx\n",
    "        pde_loss = loss_fun(res, torch.zeros_like(res))\n",
    "\n",
    "        # Compute the boundary condition (BC) loss\n",
    "        u_reshaped = u.view(Nx, Nt)\n",
    "        u_x_reshaped = u_x.view(Nx, Nt)\n",
    "        bc_loss = (loss_fun(u_reshaped[0, :], torch.zeros_like(u_reshaped[0, :])) +\n",
    "                   loss_fun(u_reshaped[Nx-1, :], torch.zeros_like(u_reshaped[Nx-1, :])) +\n",
    "                   loss_fun(u_x_reshaped[0, :], u_x_reshaped[Nx-1, :]))\n",
    "        \n",
    "        # Compute the initial condition (IC) loss\n",
    "        x_reshaped = x.view(Nx, Nt)\n",
    "        u_initial = torch.sin(2 * np.pi * x_reshaped[:, 0])\n",
    "        ic_loss = loss_fun(u_initial, u_reshaped[:, 0])\n",
    "    \n",
    "        return pde_loss, bc_loss, ic_loss\n"
   ]
  },
  {
   "cell_type": "markdown",
   "metadata": {},
   "source": [
    "### Define Model and Optimizer"
   ]
  },
  {
   "cell_type": "code",
   "execution_count": null,
   "metadata": {},
   "outputs": [],
   "source": [
    "model = PINNs_net()\n",
    "optimizer = torch.optim.Adam(model.parameters(), lr=0.001)"
   ]
  },
  {
   "cell_type": "code",
   "execution_count": null,
   "metadata": {},
   "outputs": [],
   "source": [
    "# num of points in the domain\n",
    "Nx, Nt = 128, 128\n",
    "\n",
    "# define domain dimensions and resolution\n",
    "Lx_initial, Lx_final = 0, 1\n",
    "t_initial, t_final = 0, 1\n",
    "dx = (Lx_final - Lx_initial) / (Nx - 1)\n",
    "dt = (t_final - t_initial) / (Nt-1)\n",
    "\n",
    "# initiallize input parameters as tensors\n",
    "x = torch.zeros(Nx, Nt)\n",
    "t = torch.zeros(Nx, Nt)\n",
    "for i in range(Nx):\n",
    "    for j in range(Nt):\n",
    "        x[i,j] = Lx_initial + dx * i\n",
    "        t[i,j] = t_initial + dt * j\n"
   ]
  },
  {
   "cell_type": "code",
   "execution_count": null,
   "metadata": {},
   "outputs": [],
   "source": [
    "for epoch in range(500):\n",
    "    # compute various losses\n",
    "    eq_loss, BC_loss, IC_loss = model.compute_loss(x.view(-1,1), t.view(-1,1), Nx, Nt)\n",
    "\n",
    "    # compute total loss\n",
    "    total_loss = eq_loss + 20*BC_loss + 20*IC_loss\n",
    "\n",
    "    # backward pass\n",
    "    total_loss.backward()\n",
    "    optimizer.step()\n",
    "    optimizer.zero_grad()\n",
    "\n",
    "    print(f\"epoch: {epoch}, loss: {total_loss}\")"
   ]
  }
 ],
 "metadata": {
  "language_info": {
   "name": "python"
  }
 },
 "nbformat": 4,
 "nbformat_minor": 2
}
